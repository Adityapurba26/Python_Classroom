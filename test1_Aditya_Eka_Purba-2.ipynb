{
 "cells": [
  {
   "cell_type": "code",
   "execution_count": 7,
   "metadata": {},
   "outputs": [
    {
     "name": "stdout",
     "output_type": "stream",
     "text": [
      "Masukkan Angka Ganjil/Genap: 1000\n",
      "Bilangan Genap\n"
     ]
    }
   ],
   "source": [
    "while True:\n",
    "    temp = input(\"Masukkan Angka Ganjil/Genap: \")\n",
    "    cek_angka = int(temp[:])\n",
    "    if cek_angka < -1:\n",
    "        print(\"Bilangan Negative, Masukkan bilangan bulat positive\")\n",
    "    if cek_angka %2 == 0:\n",
    "        print(\"Bilangan Genap\")\n",
    "    if cek_angka %2 != 0:\n",
    "        print(\"Bilangan Ganjil\")\n",
    "    if temp == \"1000\":\n",
    "            break\n",
    "    \n"
   ]
  },
  {
   "cell_type": "code",
   "execution_count": 28,
   "metadata": {},
   "outputs": [
    {
     "name": "stdout",
     "output_type": "stream",
     "text": [
      "Masukkan Angka 1= Untuk Menghitung Luas Segitiga\n",
      "Masukkan Angka 2= Untuk Menghitung Luas Persegi\n",
      "Masukkan Angka: 2\n",
      "Masukkan Sisi Persegi: 10\n",
      "Luas Persegi adalah 100\n"
     ]
    }
   ],
   "source": [
    "while True:\n",
    "    print(\"Masukkan Angka 1= Untuk Menghitung Luas Segitiga\")\n",
    "    print(\"Masukkan Angka 2= Untuk Menghitung Luas Persegi\")\n",
    "    pilihan = input(\"Masukkan Angka: \")\n",
    "    cek_angka = int(pilihan[:])\n",
    "    if cek_angka ==1:\n",
    "        tinggi = int(input(\"Masukkan Tinggi Segitiga: \"))\n",
    "        alas=int(input(\"Masukkan Alas Segitiga: \"))\n",
    "        result=round(0.5*alas*tinggi)\n",
    "        print(\"Luas segitiga tersebut adalah\",result)\n",
    "    if cek_angka == 2:\n",
    "        sisi = int(input(\"Masukkan Sisi Persegi: \"))\n",
    "        result=round(sisi*sisi)\n",
    "        print(\"Luas Persegi adalah\",result)\n",
    "    if pilihan !=1 or temp !=2:\n",
    "            break"
   ]
  },
  {
   "cell_type": "code",
   "execution_count": 45,
   "metadata": {},
   "outputs": [
    {
     "name": "stdout",
     "output_type": "stream",
     "text": [
      "Masukkan Jumlah Hari: 1000\n",
      "1000 hari = 2 Tahun 9 bulan 1 minggu 3 hari\n"
     ]
    }
   ],
   "source": [
    "import math\n",
    "jumlah_hari = int(input(\"Masukkan Jumlah Hari: \"))\n",
    "tahun = math.floor(jumlah_hari/360)\n",
    "bulan = math.floor((jumlah_hari - (tahun*360))/30)\n",
    "minggu = math.floor((jumlah_hari - (tahun *360)-(30*bulan))/7)\n",
    "hari = math.floor(jumlah_hari - (minggu*7)-(tahun *360)-(30*bulan))\n",
    "print(jumlah_hari,\"hari\",\"=\",tahun,\"Tahun\",bulan,\"bulan\",minggu,\"minggu\",hari,\"hari\")\n",
    "\n",
    "\n"
   ]
  },
  {
   "cell_type": "code",
   "execution_count": null,
   "metadata": {},
   "outputs": [],
   "source": []
  }
 ],
 "metadata": {
  "kernelspec": {
   "display_name": "Python 3",
   "language": "python",
   "name": "python3"
  }
 },
 "nbformat": 4,
 "nbformat_minor": 4
}
